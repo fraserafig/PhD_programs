{
 "cells": [
  {
   "cell_type": "code",
   "execution_count": 8,
   "metadata": {
    "id": "PRPqWbViYroW"
   },
   "outputs": [],
   "source": [
    "#setup\n",
    "\n",
    "import numpy as np\n",
    "import matplotlib.pyplot as plt\n",
    "import MDAnalysis as mda\n",
    "from Silanizer.Grafter.grafter import Grafting\n",
    "import subprocess\n",
    "from natsort import natsorted\n",
    "from glob import glob\n",
    "import json\n",
    "\n",
    "GMXSOURCE = f\"/scratch/project_465000467/FABIO/modules.sh\"\n",
    "COLORS = {\"N1B\":\"xkcd:light gray\",\"N1L\":\"xkcd:light gray\",\"N1L1\":\"xkcd:light gray\",\"DMS\":\"xkcd:amber\",\"N1P\":\"xkcd:light gray\",\"W\":\"xkcd:water blue\",\"TW\":\"xkcd:water blue\",\"SW\":\"xkcd:water blue\",\"TOLU\":\"xkcd:algae green\"}\n",
    "NAMES = [\"DMS\",\"N1P\",\"N1B\",\"N1L\",\"N1L1\",\"W\",\"SW\",\"TW\",\"TOLU\"]\n",
    "MOLDEFS = {\"water\":[[\"TW\",\"\",\"TW_box.gro\"],[\"SW\",\"TW_box.gro\",\"SW_TW_box.gro\"],[\"W\",\"SW_TW_box.gro\",\"SW_TW_W_box.gro\"]], \"toluene\":[[\"TOLU\",\"\",\"TOLU_box.gro\"]]}\n",
    "NSOLV = {\"K0,0.1\": 10000, \"K1,0.1\":10000, \"K2,0.1\":10000, \"K5,0.1\":10000,\n",
    "         \"K0,0.2\": 10000, \"K1,0.2\":10000, \"K2,0.2\":10000, \"K5,0.2\":10000,\n",
    "         \"K0,0.3\": 10000, \"K1,0.3\":20000, \"K2,0.3\":20000, \"K5,0.3\":30000,\n",
    "         \"K0,0.6\": 10000, \"K1,0.6\":20000, \"K2,0.6\":20000, \"K5,0.6\":30000,\n",
    "         \"K0,1.0\": 10000, \"K1,1.0\":20000, \"K2,1.0\":20000, \"K5,1.0\":30000}\n",
    "MASS = {\"water\":162, \"toluene\":126}\n",
    "DENSITY = {\"water\":1, \"toluene\":0.866}         \n",
    "NATOMS = {\"water\":3, \"toluene\":1}\n",
    "TOPOL = \"vacuum.top\"\n",
    "ROOT = \"/scratch/project_465000467/FABIO/PDMS\"\n"
   ]
  },
  {
   "cell_type": "code",
   "execution_count": 11,
   "metadata": {},
   "outputs": [
    {
     "data": {
      "application/vnd.jupyter.widget-view+json": {
       "model_id": "c218bcb7fab44f31b7abc7ebd3f70fa2",
       "version_major": 2,
       "version_minor": 0
      },
      "text/plain": [
       "  0%|          | 0/1 [00:00<?, ?it/s]"
      ]
     },
     "metadata": {},
     "output_type": "display_data"
    },
    {
     "name": "stdout",
     "output_type": "stream",
     "text": [
      "Setting up system.\n",
      "Sample:  K5 \n",
      "Density:  1.0 \n",
      "Run:  run3 \n",
      "Solvent:  water \n",
      "\n"
     ]
    },
    {
     "name": "stderr",
     "output_type": "stream",
     "text": [
      "/scratch/project_465000467/FABIO/.venv/lib/python3.9/site-packages/MDAnalysis/topology/guessers.py:146: UserWarning: Failed to guess the mass for the following atom types: D\n",
      "  warnings.warn(\"Failed to guess the mass for the following atom types: {}\".format(atom_type))\n"
     ]
    },
    {
     "name": "stdout",
     "output_type": "stream",
     "text": [
      "\n",
      "name: K5\n",
      "root: /scratch/project_465000467/FABIO/PDMS/Polydisperse/K5/1.0/run3/water/min\n",
      "blocks: ['start.gro', 'WALL.gro']\n",
      "positions: [[  0.           0.           0.        ]\n",
      " [  0.           0.         672.45999146]]\n",
      "box: [501.1793212890625, 98.99020385742188, 972.4599914550781, 90, 90, 90]\n",
      "transformations: [None, None]\n",
      "out name: assembled.gro\n",
      "\n",
      "\n",
      ".*.*.*.*.*.*.*.*.*.*.*.\n",
      "Starting assembling\n",
      "\n",
      "name:  K5 \n",
      "root:  None \n",
      "blocks:  ['start.gro', 'WALL.gro'] \n",
      "positions:  [[  0.           0.           0.        ]\n",
      " [  0.           0.         672.45999146]] \n",
      "box:  [501.1793212890625, 98.99020385742188, 972.4599914550781, 90, 90, 90] \n",
      "transformations:  [None, None] \n",
      "out name:  assembled.gro \n",
      "\n",
      "Finished assembling (:\n",
      ".*.*.*.*.*.*.*.*.*.*.*.\n",
      "\n",
      "\n"
     ]
    },
    {
     "ename": "KeyboardInterrupt",
     "evalue": "",
     "output_type": "error",
     "traceback": [
      "\u001b[0;31m---------------------------------------------------------------------------\u001b[0m",
      "\u001b[0;31mKeyboardInterrupt\u001b[0m                         Traceback (most recent call last)",
      "Cell \u001b[0;32mIn[11], line 63\u001b[0m\n\u001b[1;32m     61\u001b[0m \u001b[38;5;28;01mfor\u001b[39;00m data \u001b[38;5;129;01min\u001b[39;00m defs: \n\u001b[1;32m     62\u001b[0m         mol, into, out \u001b[38;5;241m=\u001b[39m data\n\u001b[0;32m---> 63\u001b[0m         \u001b[43mMySys\u001b[49m\u001b[38;5;241;43m.\u001b[39;49m\u001b[43msolv_box\u001b[49m\u001b[43m(\u001b[49m\u001b[43mMySys\u001b[49m\u001b[38;5;241;43m.\u001b[39;49m\u001b[43mfolder\u001b[49m\u001b[43m,\u001b[49m\u001b[43m \u001b[49m\u001b[43mGMXSOURCE\u001b[49m\u001b[43m,\u001b[49m\u001b[43m \u001b[49m\u001b[38;5;124;43mf\u001b[39;49m\u001b[38;5;124;43m\"\u001b[39;49m\u001b[38;5;132;43;01m{\u001b[39;49;00m\u001b[43mout\u001b[49m\u001b[38;5;132;43;01m}\u001b[39;49;00m\u001b[38;5;124;43m\"\u001b[39;49m\u001b[43m,\u001b[49m\u001b[43m \u001b[49m\u001b[38;5;124;43mf\u001b[39;49m\u001b[38;5;124;43m\"\u001b[39;49m\u001b[38;5;132;43;01m{\u001b[39;49;00m\u001b[43mmol\u001b[49m\u001b[38;5;132;43;01m}\u001b[39;49;00m\u001b[38;5;124;43m\"\u001b[39;49m\u001b[43m,\u001b[49m\u001b[43m \u001b[49m\u001b[43mboxSize\u001b[49m\u001b[43m,\u001b[49m\u001b[43m \u001b[49m\u001b[43mpositions\u001b[49m\u001b[43m,\u001b[49m\u001b[43m \u001b[49m\u001b[43mpbcBox\u001b[49m\u001b[43m,\u001b[49m\u001b[43m \u001b[49m\u001b[43mnumMols\u001b[49m\u001b[43m,\u001b[49m\u001b[43m \u001b[49m\u001b[43minto\u001b[49m\u001b[38;5;241;43m=\u001b[39;49m\u001b[43minto\u001b[49m\u001b[43m)\u001b[49m\n\u001b[1;32m     64\u001b[0m         \u001b[38;5;28;01mif\u001b[39;00m \u001b[38;5;28mlen\u001b[39m(into) \u001b[38;5;241m>\u001b[39m \u001b[38;5;241m1\u001b[39m:\n\u001b[1;32m     65\u001b[0m                 \u001b[38;5;28mprint\u001b[39m(\u001b[38;5;124mf\u001b[39m\u001b[38;5;124m\"\u001b[39m\u001b[38;5;124mInserted \u001b[39m\u001b[38;5;132;01m{\u001b[39;00mnumMols\u001b[38;5;132;01m}\u001b[39;00m\u001b[38;5;124m of \u001b[39m\u001b[38;5;132;01m{\u001b[39;00mmol\u001b[38;5;132;01m}\u001b[39;00m\u001b[38;5;124m into \u001b[39m\u001b[38;5;132;01m{\u001b[39;00minto\u001b[38;5;132;01m}\u001b[39;00m\u001b[38;5;124m, filename \u001b[39m\u001b[38;5;132;01m{\u001b[39;00mout\u001b[38;5;132;01m}\u001b[39;00m\u001b[38;5;124m.\u001b[39m\u001b[38;5;124m\"\u001b[39m)\n",
      "File \u001b[0;32m/pfs/lustrep4/scratch/project_465000467/FABIO/PDMS/scripts_PDMS/Silanizer/Grafter/utils/Building.py:186\u001b[0m, in \u001b[0;36mBuilder.solv_box\u001b[0;34m(folder, gmxSource, outName, solv, boxSize, positions, pbcBox, numMols, into)\u001b[0m\n\u001b[1;32m    183\u001b[0m \u001b[38;5;28;01melse\u001b[39;00m:\n\u001b[1;32m    184\u001b[0m     extra \u001b[38;5;241m=\u001b[39m \u001b[38;5;124m\"\u001b[39m\u001b[38;5;124m \u001b[39m\u001b[38;5;124m\"\u001b[39m\n\u001b[0;32m--> 186\u001b[0m \u001b[43msubprocess\u001b[49m\u001b[38;5;241;43m.\u001b[39;49m\u001b[43mrun\u001b[49m\u001b[43m(\u001b[49m\u001b[38;5;124;43mf\u001b[39;49m\u001b[38;5;124;43m\"\u001b[39;49m\u001b[38;5;124;43mcd \u001b[39;49m\u001b[38;5;132;43;01m{\u001b[39;49;00m\u001b[43mfolder\u001b[49m\u001b[38;5;132;43;01m}\u001b[39;49;00m\u001b[38;5;124;43m;\u001b[39;49m\u001b[38;5;124;43m\"\u001b[39;49m\u001b[38;5;241;43m+\u001b[39;49m\n\u001b[1;32m    187\u001b[0m \u001b[43m                \u001b[49m\u001b[38;5;124;43mf\u001b[39;49m\u001b[38;5;124;43m\"\u001b[39;49m\u001b[38;5;124;43msource \u001b[39;49m\u001b[38;5;132;43;01m{\u001b[39;49;00m\u001b[43mgmxSource\u001b[49m\u001b[38;5;132;43;01m}\u001b[39;49;00m\u001b[38;5;124;43m > /dev/null 2>&1;\u001b[39;49m\u001b[38;5;124;43m\"\u001b[39;49m\u001b[38;5;241;43m+\u001b[39;49m\n\u001b[1;32m    188\u001b[0m \u001b[43m                \u001b[49m\u001b[38;5;124;43mf\u001b[39;49m\u001b[38;5;124;43m\"\u001b[39;49m\u001b[38;5;124;43mgmx insert-molecules \u001b[39;49m\u001b[38;5;132;43;01m{\u001b[39;49;00m\u001b[43mextra\u001b[49m\u001b[38;5;132;43;01m}\u001b[39;49;00m\u001b[38;5;124;43m -ci \u001b[39;49m\u001b[38;5;132;43;01m{\u001b[39;49;00m\u001b[43msolv\u001b[49m\u001b[38;5;132;43;01m}\u001b[39;49;00m\u001b[38;5;124;43m -o \u001b[39;49m\u001b[38;5;132;43;01m{\u001b[39;49;00m\u001b[43moutName\u001b[49m\u001b[38;5;132;43;01m}\u001b[39;49;00m\u001b[38;5;124;43m -radius 0.2 -scale 1 -box \u001b[39;49m\u001b[38;5;132;43;01m{\u001b[39;49;00m\u001b[43mboxSize\u001b[49m\u001b[43m[\u001b[49m\u001b[38;5;241;43m0\u001b[39;49m\u001b[43m]\u001b[49m\u001b[38;5;132;43;01m}\u001b[39;49;00m\u001b[38;5;124;43m \u001b[39;49m\u001b[38;5;132;43;01m{\u001b[39;49;00m\u001b[43mboxSize\u001b[49m\u001b[43m[\u001b[49m\u001b[38;5;241;43m1\u001b[39;49m\u001b[43m]\u001b[49m\u001b[38;5;132;43;01m}\u001b[39;49;00m\u001b[38;5;124;43m \u001b[39;49m\u001b[38;5;132;43;01m{\u001b[39;49;00m\u001b[43mboxSize\u001b[49m\u001b[43m[\u001b[49m\u001b[38;5;241;43m2\u001b[39;49m\u001b[43m]\u001b[49m\u001b[38;5;132;43;01m}\u001b[39;49;00m\u001b[38;5;124;43m -nmol \u001b[39;49m\u001b[38;5;132;43;01m{\u001b[39;49;00m\u001b[43mnumMols\u001b[49m\u001b[38;5;132;43;01m}\u001b[39;49;00m\u001b[38;5;124;43m >> insert.log 2>&1;\u001b[39;49m\u001b[38;5;124;43m\"\u001b[39;49m\u001b[38;5;241;43m+\u001b[39;49m\n\u001b[1;32m    189\u001b[0m \u001b[43m                \u001b[49m\u001b[38;5;124;43mf\u001b[39;49m\u001b[38;5;124;43m\"\u001b[39;49m\u001b[38;5;124;43mgmx editconf -f \u001b[39;49m\u001b[38;5;132;43;01m{\u001b[39;49;00m\u001b[43moutName\u001b[49m\u001b[38;5;132;43;01m}\u001b[39;49;00m\u001b[38;5;124;43m -center \u001b[39;49m\u001b[38;5;132;43;01m{\u001b[39;49;00m\u001b[43mx\u001b[49m\u001b[38;5;132;43;01m}\u001b[39;49;00m\u001b[38;5;124;43m \u001b[39;49m\u001b[38;5;132;43;01m{\u001b[39;49;00m\u001b[43my\u001b[49m\u001b[38;5;132;43;01m}\u001b[39;49;00m\u001b[38;5;124;43m \u001b[39;49m\u001b[38;5;132;43;01m{\u001b[39;49;00m\u001b[43mz\u001b[49m\u001b[38;5;132;43;01m}\u001b[39;49;00m\u001b[38;5;124;43m -o centered_\u001b[39;49m\u001b[38;5;132;43;01m{\u001b[39;49;00m\u001b[43moutName\u001b[49m\u001b[38;5;132;43;01m}\u001b[39;49;00m\u001b[38;5;124;43m -box \u001b[39;49m\u001b[38;5;132;43;01m{\u001b[39;49;00m\u001b[43mpbcBox\u001b[49m\u001b[43m[\u001b[49m\u001b[38;5;241;43m0\u001b[39;49m\u001b[43m]\u001b[49m\u001b[38;5;132;43;01m}\u001b[39;49;00m\u001b[38;5;124;43m \u001b[39;49m\u001b[38;5;132;43;01m{\u001b[39;49;00m\u001b[43mpbcBox\u001b[49m\u001b[43m[\u001b[49m\u001b[38;5;241;43m1\u001b[39;49m\u001b[43m]\u001b[49m\u001b[38;5;132;43;01m}\u001b[39;49;00m\u001b[38;5;124;43m \u001b[39;49m\u001b[38;5;132;43;01m{\u001b[39;49;00m\u001b[43mpbcBox\u001b[49m\u001b[43m[\u001b[49m\u001b[38;5;241;43m2\u001b[39;49m\u001b[43m]\u001b[49m\u001b[38;5;132;43;01m}\u001b[39;49;00m\u001b[38;5;124;43m > centering.log 2>&1\u001b[39;49m\u001b[38;5;124;43m\"\u001b[39;49m\u001b[43m,\u001b[49m\n\u001b[1;32m    190\u001b[0m \u001b[43m                \u001b[49m\u001b[43mshell\u001b[49m\u001b[43m \u001b[49m\u001b[38;5;241;43m=\u001b[39;49m\u001b[43m \u001b[49m\u001b[38;5;28;43;01mTrue\u001b[39;49;00m\u001b[43m,\u001b[49m\u001b[43m \u001b[49m\u001b[43mexecutable\u001b[49m\u001b[38;5;241;43m=\u001b[39;49m\u001b[38;5;124;43m\"\u001b[39;49m\u001b[38;5;124;43m/bin/bash\u001b[39;49m\u001b[38;5;124;43m\"\u001b[39;49m\u001b[43m)\u001b[49m\n\u001b[1;32m    191\u001b[0m \u001b[38;5;28;01mreturn\u001b[39;00m\n",
      "File \u001b[0;32m/opt/cray/pe/python/3.9.12.1/lib/python3.9/subprocess.py:507\u001b[0m, in \u001b[0;36mrun\u001b[0;34m(input, capture_output, timeout, check, *popenargs, **kwargs)\u001b[0m\n\u001b[1;32m    505\u001b[0m \u001b[38;5;28;01mwith\u001b[39;00m Popen(\u001b[38;5;241m*\u001b[39mpopenargs, \u001b[38;5;241m*\u001b[39m\u001b[38;5;241m*\u001b[39mkwargs) \u001b[38;5;28;01mas\u001b[39;00m process:\n\u001b[1;32m    506\u001b[0m     \u001b[38;5;28;01mtry\u001b[39;00m:\n\u001b[0;32m--> 507\u001b[0m         stdout, stderr \u001b[38;5;241m=\u001b[39m \u001b[43mprocess\u001b[49m\u001b[38;5;241;43m.\u001b[39;49m\u001b[43mcommunicate\u001b[49m\u001b[43m(\u001b[49m\u001b[38;5;28;43minput\u001b[39;49m\u001b[43m,\u001b[49m\u001b[43m \u001b[49m\u001b[43mtimeout\u001b[49m\u001b[38;5;241;43m=\u001b[39;49m\u001b[43mtimeout\u001b[49m\u001b[43m)\u001b[49m\n\u001b[1;32m    508\u001b[0m     \u001b[38;5;28;01mexcept\u001b[39;00m TimeoutExpired \u001b[38;5;28;01mas\u001b[39;00m exc:\n\u001b[1;32m    509\u001b[0m         process\u001b[38;5;241m.\u001b[39mkill()\n",
      "File \u001b[0;32m/opt/cray/pe/python/3.9.12.1/lib/python3.9/subprocess.py:1126\u001b[0m, in \u001b[0;36mPopen.communicate\u001b[0;34m(self, input, timeout)\u001b[0m\n\u001b[1;32m   1124\u001b[0m         stderr \u001b[38;5;241m=\u001b[39m \u001b[38;5;28mself\u001b[39m\u001b[38;5;241m.\u001b[39mstderr\u001b[38;5;241m.\u001b[39mread()\n\u001b[1;32m   1125\u001b[0m         \u001b[38;5;28mself\u001b[39m\u001b[38;5;241m.\u001b[39mstderr\u001b[38;5;241m.\u001b[39mclose()\n\u001b[0;32m-> 1126\u001b[0m     \u001b[38;5;28;43mself\u001b[39;49m\u001b[38;5;241;43m.\u001b[39;49m\u001b[43mwait\u001b[49m\u001b[43m(\u001b[49m\u001b[43m)\u001b[49m\n\u001b[1;32m   1127\u001b[0m \u001b[38;5;28;01melse\u001b[39;00m:\n\u001b[1;32m   1128\u001b[0m     \u001b[38;5;28;01mif\u001b[39;00m timeout \u001b[38;5;129;01mis\u001b[39;00m \u001b[38;5;129;01mnot\u001b[39;00m \u001b[38;5;28;01mNone\u001b[39;00m:\n",
      "File \u001b[0;32m/opt/cray/pe/python/3.9.12.1/lib/python3.9/subprocess.py:1189\u001b[0m, in \u001b[0;36mPopen.wait\u001b[0;34m(self, timeout)\u001b[0m\n\u001b[1;32m   1187\u001b[0m     endtime \u001b[38;5;241m=\u001b[39m _time() \u001b[38;5;241m+\u001b[39m timeout\n\u001b[1;32m   1188\u001b[0m \u001b[38;5;28;01mtry\u001b[39;00m:\n\u001b[0;32m-> 1189\u001b[0m     \u001b[38;5;28;01mreturn\u001b[39;00m \u001b[38;5;28;43mself\u001b[39;49m\u001b[38;5;241;43m.\u001b[39;49m\u001b[43m_wait\u001b[49m\u001b[43m(\u001b[49m\u001b[43mtimeout\u001b[49m\u001b[38;5;241;43m=\u001b[39;49m\u001b[43mtimeout\u001b[49m\u001b[43m)\u001b[49m\n\u001b[1;32m   1190\u001b[0m \u001b[38;5;28;01mexcept\u001b[39;00m \u001b[38;5;167;01mKeyboardInterrupt\u001b[39;00m:\n\u001b[1;32m   1191\u001b[0m     \u001b[38;5;66;03m# https://bugs.python.org/issue25942\u001b[39;00m\n\u001b[1;32m   1192\u001b[0m     \u001b[38;5;66;03m# The first keyboard interrupt waits briefly for the child to\u001b[39;00m\n\u001b[1;32m   1193\u001b[0m     \u001b[38;5;66;03m# exit under the common assumption that it also received the ^C\u001b[39;00m\n\u001b[1;32m   1194\u001b[0m     \u001b[38;5;66;03m# generated SIGINT and will exit rapidly.\u001b[39;00m\n\u001b[1;32m   1195\u001b[0m     \u001b[38;5;28;01mif\u001b[39;00m timeout \u001b[38;5;129;01mis\u001b[39;00m \u001b[38;5;129;01mnot\u001b[39;00m \u001b[38;5;28;01mNone\u001b[39;00m:\n",
      "File \u001b[0;32m/opt/cray/pe/python/3.9.12.1/lib/python3.9/subprocess.py:1917\u001b[0m, in \u001b[0;36mPopen._wait\u001b[0;34m(self, timeout)\u001b[0m\n\u001b[1;32m   1915\u001b[0m \u001b[38;5;28;01mif\u001b[39;00m \u001b[38;5;28mself\u001b[39m\u001b[38;5;241m.\u001b[39mreturncode \u001b[38;5;129;01mis\u001b[39;00m \u001b[38;5;129;01mnot\u001b[39;00m \u001b[38;5;28;01mNone\u001b[39;00m:\n\u001b[1;32m   1916\u001b[0m     \u001b[38;5;28;01mbreak\u001b[39;00m  \u001b[38;5;66;03m# Another thread waited.\u001b[39;00m\n\u001b[0;32m-> 1917\u001b[0m (pid, sts) \u001b[38;5;241m=\u001b[39m \u001b[38;5;28;43mself\u001b[39;49m\u001b[38;5;241;43m.\u001b[39;49m\u001b[43m_try_wait\u001b[49m\u001b[43m(\u001b[49m\u001b[38;5;241;43m0\u001b[39;49m\u001b[43m)\u001b[49m\n\u001b[1;32m   1918\u001b[0m \u001b[38;5;66;03m# Check the pid and loop as waitpid has been known to\u001b[39;00m\n\u001b[1;32m   1919\u001b[0m \u001b[38;5;66;03m# return 0 even without WNOHANG in odd situations.\u001b[39;00m\n\u001b[1;32m   1920\u001b[0m \u001b[38;5;66;03m# http://bugs.python.org/issue14396.\u001b[39;00m\n\u001b[1;32m   1921\u001b[0m \u001b[38;5;28;01mif\u001b[39;00m pid \u001b[38;5;241m==\u001b[39m \u001b[38;5;28mself\u001b[39m\u001b[38;5;241m.\u001b[39mpid:\n",
      "File \u001b[0;32m/opt/cray/pe/python/3.9.12.1/lib/python3.9/subprocess.py:1875\u001b[0m, in \u001b[0;36mPopen._try_wait\u001b[0;34m(self, wait_flags)\u001b[0m\n\u001b[1;32m   1873\u001b[0m \u001b[38;5;250m\u001b[39m\u001b[38;5;124;03m\"\"\"All callers to this function MUST hold self._waitpid_lock.\"\"\"\u001b[39;00m\n\u001b[1;32m   1874\u001b[0m \u001b[38;5;28;01mtry\u001b[39;00m:\n\u001b[0;32m-> 1875\u001b[0m     (pid, sts) \u001b[38;5;241m=\u001b[39m \u001b[43mos\u001b[49m\u001b[38;5;241;43m.\u001b[39;49m\u001b[43mwaitpid\u001b[49m\u001b[43m(\u001b[49m\u001b[38;5;28;43mself\u001b[39;49m\u001b[38;5;241;43m.\u001b[39;49m\u001b[43mpid\u001b[49m\u001b[43m,\u001b[49m\u001b[43m \u001b[49m\u001b[43mwait_flags\u001b[49m\u001b[43m)\u001b[49m\n\u001b[1;32m   1876\u001b[0m \u001b[38;5;28;01mexcept\u001b[39;00m \u001b[38;5;167;01mChildProcessError\u001b[39;00m:\n\u001b[1;32m   1877\u001b[0m     \u001b[38;5;66;03m# This happens if SIGCLD is set to be ignored or waiting\u001b[39;00m\n\u001b[1;32m   1878\u001b[0m     \u001b[38;5;66;03m# for child processes has otherwise been disabled for our\u001b[39;00m\n\u001b[1;32m   1879\u001b[0m     \u001b[38;5;66;03m# process.  This child is dead, we can't get the status.\u001b[39;00m\n\u001b[1;32m   1880\u001b[0m     pid \u001b[38;5;241m=\u001b[39m \u001b[38;5;28mself\u001b[39m\u001b[38;5;241m.\u001b[39mpid\n",
      "\u001b[0;31mKeyboardInterrupt\u001b[0m: "
     ]
    }
   ],
   "source": [
    "#assemble system and solvate\n",
    "def calc_nmols(rho, v, mass):\n",
    "        amu_to_g = 1.66054e-24\n",
    "        return int(rho*(v*1.0e-21)/(mass*amu_to_g))\n",
    "\n",
    "SAMPLES = [\"K5\"]\n",
    "DENS = [1.0]\n",
    "RUNS = [\"run3\"]\n",
    "SOLV = \"water\"\n",
    "MOLDEFS = {\"water\":[[\"TW\",\"\",\"TW_box.gro\"],[\"SW\",\"TW_box.gro\",\"SW_TW_box.gro\"],[\"W\",\"SW_TW_box.gro\",\"SW_TW_W_box.gro\"]], \"toluene\":[[\"TOLU\",\"\",\"TOLU_box.gro\"]]}\n",
    "NSOLV = {\"K0\": 10000, \"K1\":10000, \"K2\":10000, \"K5\":10000}\n",
    "SYSTEMS = [[s,d,r] for s in SAMPLES for d in DENS for r in RUNS]\n",
    "TOPOL = \"vacuum.top\"\n",
    "POLY = \"Polydisperse\"\n",
    "\n",
    "for sys in tqdm.tqdm(SYSTEMS):\n",
    "        SAMPLE, DEN, RUN = sys\n",
    "\n",
    "        print(\"Setting up system.\\nSample: \", SAMPLE, \"\\nDensity: \", DEN, \"\\nRun: \", RUN, \"\\nSolvent: \", SOLV, \"\\n\")\n",
    "        startFolder = f\"{ROOT}/{POLY}/{SAMPLE}/{DEN}/{RUN}/{SOLV}/min\"\n",
    "        systemFolder = f\"{ROOT}/{POLY}/{SAMPLE}/{DEN}/{RUN}/vacuum/nvt\"\n",
    "\n",
    "        subprocess.run(f\"mkdir -p {startFolder}\", shell = True, executable=\"/bin/bash\")\n",
    "        groFile = natsorted(glob(f\"{systemFolder}/*part*.gro\"))[-1]\n",
    "\n",
    "        defs = np.array(MOLDEFS[SOLV])\n",
    "        for mol in defs[:,0]:\n",
    "                subprocess.run(f\"cp {ROOT}/start_files/{mol}.gro {startFolder};\",\n",
    "                        shell = True, executable=\"/bin/bash\")                                            \n",
    "        subprocess.run(f\"cp {groFile} {startFolder}/start.gro;\"+\n",
    "                f\"cp {ROOT}/start_files/WALL.gro {startFolder};\"+\n",
    "                f\"cp {systemFolder}/{TOPOL} {startFolder}/;\"+\n",
    "                f\"cp -r {systemFolder}/itps {startFolder}/;\"+\n",
    "                f\"cp -r {ROOT}/start_files/itps/* {startFolder}/itps/\",\n",
    "                shell = True, executable=\"/bin/bash\")\n",
    "\n",
    "        u = mda.Universe(f\"{startFolder}/start.gro\")\n",
    "        atoms = u.select_atoms(\"all\").positions\n",
    "        pbcBox = u.dimensions[:3].astype(float)\n",
    "        zmax = np.max(atoms[:,2])\n",
    "        wallPosition = zmax+200\n",
    "        pbcBox = [pbcBox[0], pbcBox[1], wallPosition+300]\n",
    "\n",
    "        inputs = {      \"folder\": f\"{ROOT}/{POLY}/{SAMPLE}/{DEN}/{RUN}/{SOLV}/min\",\n",
    "                        \"blocks\": [ \"start.gro\" , \"WALL.gro\" ],\n",
    "                        \"positions\": [ [0,0,0] , [0,0,wallPosition] ],\n",
    "                        \"box dimensions\": [ pbcBox[0], pbcBox[1], pbcBox[2], 90, 90, 90 ],\n",
    "                        \"transforms\": False,\n",
    "                        \"name\": SAMPLE,\n",
    "                        \"out name\": \"assembled.gro\"     }\n",
    "\n",
    "        MySys = Grafting.NewSystem(root=startFolder)\n",
    "        MySys.read_inputs_assembler(inputs)\n",
    "        MySys.run_assembler(topol=TOPOL, molnames=[\"WALL\"])\n",
    "\n",
    "        boxSize = np.array([pbcBox[0], pbcBox[1], wallPosition - zmax - 20])*.1\n",
    "        positions = np.array([[0,pbcBox[0]],[0,pbcBox[1]],[zmax+20, wallPosition-20]])*.1\n",
    "        pbcBox = np.array(pbcBox)*.1\n",
    "        numMols = calc_nmols(DENSITY[SOLV], np.prod(boxSize),MASS[SOLV])\n",
    "\n",
    "        for data in defs: \n",
    "                mol, into, out = data\n",
    "                MySys.solv_box(MySys.folder, GMXSOURCE, f\"{out}\", f\"{mol}\", boxSize, positions, pbcBox, numMols, into=into)\n",
    "                if len(into) > 1:\n",
    "                        print(f\"Inserted {numMols} of {mol} into {into}, filename {out}.\")\n",
    "                else:\n",
    "                        print(f\"Created box with {numMols} of {mol}, filename {out}.\")\n",
    "            \n",
    "        inFile = \"assembled.gro\"\n",
    "        solvation = \"centered_\"+defs[:,2][-1]\n",
    "        outFile = \"solvated_start.gro\"\n",
    "        numMolsTotal = numMols*NATOMS[SOLV]\n",
    "        MySys.solvate(GMXSOURCE, f\"{startFolder}/{inFile}\", solvation, outFile, TOPOL, pbcBox, numMolsTotal)\n",
    "        print(f\"\\nSolvated {inFile} with {solvation}, filename {outFile}.\\n\")\n",
    "\n",
    "\n",
    "        MySys.plot_system(colors=COLORS,names=NAMES)\n",
    "\n",
    "\n",
    "        jobName = f\"{SAMPLE}_{DEN}_{RUN}_min\"\n",
    "        subprocess.run(f\"cd {startFolder}; cp {ROOT}/scripts_PDMS/run_min* .;\"+\n",
    "                f\"source {GMXSOURCE};\"+\n",
    "                f\"printf 'a N1L1\\na DMS\\nq\\n' | gmx make_ndx -f {outFile} -o index.ndx > make_ndx.log 2>&1;\"+\n",
    "                f\"sed -i 's/freezegrps              = .*/freezegrps              = BULK N1L1 LAY WALL/' run_min.mdp;\"+\n",
    "                f\"sed -i 's/freezedim               = .*/freezedim               = Y Y Y Y Y Y Y Y Y Y Y Y/' run_min.mdp;\"+\n",
    "                f\"gmx grompp -p {TOPOL} -c {outFile} -f run_min.mdp -o minimized.tpr -n index.ndx -maxwarn 2 > grompp.log 2>&1;\"+\n",
    "                f\"sbatch --job-name=\\\"{jobName}\\\" run_min.sh minimized;\",\n",
    "                shell=True, executable=\"/bin/bash\")"
   ]
  },
  {
   "cell_type": "code",
   "execution_count": null,
   "metadata": {},
   "outputs": [],
   "source": []
  }
 ],
 "metadata": {
  "colab": {
   "provenance": []
  },
  "kernelspec": {
   "display_name": "Python 3 (ipykernel)",
   "language": "python",
   "name": "python3"
  },
  "language_info": {
   "codemirror_mode": {
    "name": "ipython",
    "version": 3
   },
   "file_extension": ".py",
   "mimetype": "text/x-python",
   "name": "python",
   "nbconvert_exporter": "python",
   "pygments_lexer": "ipython3",
   "version": "3.9.12"
  }
 },
 "nbformat": 4,
 "nbformat_minor": 4
}
